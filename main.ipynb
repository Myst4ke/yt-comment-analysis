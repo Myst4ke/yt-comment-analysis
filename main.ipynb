{
 "cells": [
  {
   "cell_type": "markdown",
   "metadata": {},
   "source": [
    "# YT Comments analysis"
   ]
  },
  {
   "cell_type": "code",
   "execution_count": 204,
   "metadata": {},
   "outputs": [],
   "source": [
    "from googleapiclient.discovery import build\n",
    "import pandas as pd\n",
    "from api import API_KEY\n",
    "\n",
    "channel_id = \"UCWeg2Pkate69NFdBeuRFTAw\" #Squeezie channel\n",
    "youtube = build('youtube', 'v3', developerKey=API_KEY)\n",
    "exemple_video = \"qCKyRhkhqoQ\""
   ]
  },
  {
   "cell_type": "code",
   "execution_count": 205,
   "metadata": {},
   "outputs": [],
   "source": [
    "def get_channel_stats(youtube, channel_id):\n",
    "    request = youtube.channels().list(\n",
    "        part=\"snippet,contentDetails,statistics\",\n",
    "        id=channel_id\n",
    "    )\n",
    "    response = request.execute()\n",
    "    data = {\n",
    "        \"channel_name\": response['items'][0]['snippet']['title'],\n",
    "        \"channel_id\": response['items'][0]['id'],\n",
    "        \"stats\": response['items'][0]['statistics'],\n",
    "        \n",
    "    }\n",
    "    return data"
   ]
  },
  {
   "cell_type": "code",
   "execution_count": 206,
   "metadata": {},
   "outputs": [],
   "source": [
    "def get_Most_Popular_Video_id(youtube):\n",
    "    request = youtube.videos().list(\n",
    "        part=\"snippet\",\n",
    "        chart=\"mostPopular\",\n",
    "        regionCode=\"FR\",\n",
    "        maxResults=100  \n",
    "    )\n",
    "    response = request.execute()\n",
    "    id_top_video = []\n",
    "    for i in range(len(response['items'])):\n",
    "        id_top_video.append((response['items'][i]['snippet']['thumbnails']['default']['url'].split(\"/\"))[4])\n",
    "    \n",
    "    return id_top_video"
   ]
  },
  {
   "cell_type": "code",
   "execution_count": 207,
   "metadata": {},
   "outputs": [],
   "source": [
    "def get_comment_id(youtube,video_Id):\n",
    "    request = youtube.commentThreads().list(\n",
    "        part=\"snippet\",\n",
    "        videoId=video_Id,\n",
    "        maxResults=10,\n",
    "    )\n",
    "    response = request.execute()\n",
    "    id=[]\n",
    "    for i in range(len(response['items'])):       \n",
    "            id.append(response['items'][i][\"id\"])\n",
    "          \n",
    "    \n",
    "    return id"
   ]
  },
  {
   "cell_type": "code",
   "execution_count": 208,
   "metadata": {},
   "outputs": [],
   "source": [
    "def get_comment(youtube,comment_id):\n",
    "    request = youtube.comments().list(\n",
    "        part=\"snippet\",\n",
    "        id=comment_id,\n",
    "    )\n",
    "    response = request.execute()\n",
    "    comment=[]\n",
    "    viewerRating=[]\n",
    "    likeCount=[]\n",
    "    publishedAt=[]\n",
    "    for i in range(len(response['items'])):       \n",
    "            comment.append(response['items'][i]['snippet']['textOriginal'])\n",
    "            viewerRating.append(response['items'][i]['snippet']['viewerRating'])\n",
    "            likeCount.append(response['items'][i]['snippet']['likeCount'])\n",
    "            publishedAt.append(response['items'][i]['snippet']['publishedAt'])\n",
    "    data = {\n",
    "        \"comment\":comment,\n",
    "        \"viewerRating\":viewerRating,\n",
    "        \"likeCount\":likeCount,\n",
    "        \"publishedAt\":publishedAt,\n",
    "        }\n",
    "    \n",
    "    return data"
   ]
  },
  {
   "cell_type": "code",
   "execution_count": 209,
   "metadata": {},
   "outputs": [],
   "source": [
    "def get_all_comment(youtube,videoId):\n",
    "    id=get_comment_id(youtube,videoId)\n",
    "    for i in id : \n",
    "        print(get_comment(youtube,i))\n",
    "        "
   ]
  },
  {
   "cell_type": "code",
   "execution_count": 210,
   "metadata": {},
   "outputs": [],
   "source": [
    "def get_video_info(youtube,video_Id):\n",
    "    request = youtube.videos().list(\n",
    "        part=\"snippet,statistics,contentDetails\",\n",
    "        id=video_Id,\n",
    "    )\n",
    "    response = request.execute()\n",
    "   \n",
    "    data = {\n",
    "            \"title\": response['items'][0]['snippet']['title'],\n",
    "            \"duration\" : response['items'][0]['contentDetails']['duration'],\n",
    "            \"ViewCount\" : response['items'][0]['statistics']['viewCount'],\n",
    "            \"likeCount\" : response['items'][0]['statistics']['likeCount'],\n",
    "            \"commentCount\" : response['items'][0]['statistics']['commentCount'],    \n",
    "    }\n",
    "    try:\n",
    "        data[\"tags\"]=response['items'][0]['snippet']['tags']\n",
    "    except: \n",
    "        data[\"tags\"]=\"none\"\n",
    "        print(\"pas de de tags\")\n",
    "    \n",
    "    return data"
   ]
  },
  {
   "cell_type": "code",
   "execution_count": 211,
   "metadata": {},
   "outputs": [],
   "source": [
    "\n",
    "def get_video_info_top_50(youtube):\n",
    "    top_50_id=get_Most_Popular_Video_id(youtube)\n",
    "    print(top_50_id)\n",
    "    for i in top_50_id :\n",
    "        print(get_video_info(youtube,i))\n",
    "        "
   ]
  },
  {
   "cell_type": "code",
   "execution_count": 212,
   "metadata": {},
   "outputs": [
    {
     "name": "stdout",
     "output_type": "stream",
     "text": [
      "['UgxCPLRy0iH5mcVyQpB4AaABAg', 'UgxvB5M5hyItkunnruB4AaABAg', 'Ugy_5vrWRPzwHv9yAj94AaABAg', 'UgxHXge8edOcZvYJAXZ4AaABAg', 'UgzwAZs5UC05aQLFyEN4AaABAg', 'UgyupA9RPDaP_rfKwvh4AaABAg', 'UgzmMQsHEyP4ttdqEMh4AaABAg', 'UgzJMu9r6V-rJ0xnbrJ4AaABAg', 'UgxwYFlaIYOfeIHKAEd4AaABAg', 'UgwZB_QKQnIibNya5FR4AaABAg']\n",
      "{'comment': ['Je suis en fou rire sur le calendrier'], 'viewerRating': ['none'], 'likeCount': [6058], 'publishedAt': ['2024-02-10T12:10:07Z']}\n",
      "{'comment': [\"le pauvre cadreur il y a rien demandé avec les cactus et aussi j'étais en mdr 🤣🤣🤣🤣😂😂😂\"], 'viewerRating': ['none'], 'likeCount': [0], 'publishedAt': ['2024-02-13T18:07:54Z']}\n",
      "{'comment': ['La chaaaance de fou qu’il a eu mastu quand il est tombé \\nMiskin il était à deux doigts de la mort'], 'viewerRating': ['none'], 'likeCount': [0], 'publishedAt': ['2024-02-13T17:19:40Z']}\n",
      "{'comment': [\"Mec quand j'ai commencé la vidéo j'ai vu que j'était pas abo ducoup je me suis abo\"], 'viewerRating': ['none'], 'likeCount': [0], 'publishedAt': ['2024-02-13T16:23:15Z']}\n",
      "{'comment': ['Comment ça va grave imprimer le calendrier et le mettre dans mes chiottes'], 'viewerRating': ['none'], 'likeCount': [0], 'publishedAt': ['2024-02-13T13:42:54Z']}\n",
      "{'comment': [\"Zafeel en octobre c'est quelque chose 😭😭\"], 'viewerRating': ['none'], 'likeCount': [0], 'publishedAt': ['2024-02-13T12:47:35Z']}\n",
      "{'comment': ['On peut encore t’envoyer des colis ?'], 'viewerRating': ['none'], 'likeCount': [0], 'publishedAt': ['2024-02-13T12:38:23Z']}\n",
      "{'comment': ['Hello'], 'viewerRating': ['none'], 'likeCount': [0], 'publishedAt': ['2024-02-13T12:34:11Z']}\n",
      "{'comment': ['Hello'], 'viewerRating': ['none'], 'likeCount': [0], 'publishedAt': ['2024-02-13T12:33:52Z']}\n",
      "{'comment': [\"La masterclass des gage c'est trop 😂😂😂\"], 'viewerRating': ['none'], 'likeCount': [0], 'publishedAt': ['2024-02-13T12:24:34Z']}\n"
     ]
    }
   ],
   "source": [
    "#print(get_video_comments(youtube,exemple_video))\n",
    "\n",
    "print(get_comment_id(youtube,exemple_video))\n",
    "get_all_comment(youtube,exemple_video)"
   ]
  },
  {
   "cell_type": "code",
   "execution_count": 213,
   "metadata": {},
   "outputs": [
    {
     "name": "stdout",
     "output_type": "stream",
     "text": [
      "ok\n",
      "{'title': 'LE JEU DE LA FÈVE (Avec Joyca, Zafeel et Hctuan)', 'duration': 'PT35M30S', 'ViewCount': '1952389', 'likeCount': '149115', 'commentCount': '1706', 'tags': ['Mastu', 'Mastus', 'Humour', 'Matsu', 'loat', 'mastu loat', 'mastu feve', 'mastu joyca', 'joyca', 'joyca feve', 'zafeel', 'hctuan', 'mastu zafeel', 'mastu hctuan']}\n",
      "['7hYbrdC_-s8', '4NUPl6HdGUM', 'C0kDqheVueQ', 'O17DfQco2JQ', '04TsqI1lUV8', '7SEQKc9nrJo', 'cZRedorx7Vk', 'kgIsyi-Ucgs', '2UPYd3IA-ds', 'JgFWKOS-D_8', 'lCxwpk54XSk', 'WDsKkOfGl18', 'qCKyRhkhqoQ', 'sBLLsgJFzqM', 'BA1PBPi8PTM', '_z7La3INXj4', 'KOEfDvr4DcQ', '6xqD9yRrV3c', '8jsaJ4hs9Gs', 'eN8f_h7Z5vI', '0kHhmUpZs9w', 'Y-So4w8tcCY', 'B_o4XmvGAHU', 'qrcir1JIwcg', 'h-Kd5wXdK-U', 'ozthKn07Ei4', 'QVUEM1mK90I', '238Z4YaAr1g', 'JvQP3FsgrZ4', 'ppDUR5ieQ_c', 'OVNJXe2Jrmk', 'B8ph7xWcF6A', 'OoYz6w8uecE', '8_-cEJPzXHk', 'F1dvX9Vs0ns', 'VKQB4asVRw4', 'Lyl9HDY_-dA', 'Rea8hSYlX6w', 'ri6FaIavnWA', 'hhKNjTb6U1Y', 'lwsQkaqZrLE', 'hmOVbCXYLx0', 'UBYQRZBSFXI', 'tfoOop2HXxQ', 'Db4hhHOBcYs', '3hFbG2feAWk', '0ipOPI93V2A', '1TBnlCUB7mA', 'jDT4EdpkaIw', 'BLvfmWjiNH4']\n",
      "{'title': 'Usher’s Apple Music Super Bowl Halftime Show', 'duration': 'PT13M21S', 'ViewCount': '13903686', 'likeCount': '364500', 'commentCount': '27262', 'tags': ['NFL', 'Football', 'American Football', 'sport', 'sports']}\n",
      "{'title': 'LE JUSTE POIDS ! (Avec \\u200b\\u2060\\u200bMastu et \\u200b\\u2060Theobabac)', 'duration': 'PT23M31S', 'ViewCount': '1916652', 'likeCount': '167003', 'commentCount': '1596', 'tags': ['Joyca', 'video', 'reaction', 'Français', 'poids', 'juste poids', 'mastu', 'theobabac']}\n",
      "{'title': 'DEADPOOL & WOLVERINE Bande Annonce VF (2024) Deadpool 3', 'duration': 'PT2M45S', 'ViewCount': '421882', 'likeCount': '14656', 'commentCount': '664', 'tags': ['cinema', 'filmsactu', 'Bande Annonce', 'Film', '2024', 'Français', 'VF', 'Deadpool & Wolverine', 'Deadpool & Wolverine Bande Annonce VF', 'Deadpool 3', 'Deadpool 3 Bande Annonce VF', 'Ryan Reynolds', 'Hugh Jackman', 'Morena Baccarin', 'Marvel']}\n",
      "pas de de tags\n",
      "{'title': 'San Francisco 49ers vs. Kansas City Chiefs | Super Bowl LVIII Game Highlights', 'duration': 'PT21M2S', 'ViewCount': '8314896', 'likeCount': '96622', 'commentCount': '14023', 'tags': 'none'}\n",
      "{'title': 'SF-24 Car Launch', 'duration': 'PT1M39S', 'ViewCount': '610920', 'likeCount': '36874', 'commentCount': '1690', 'tags': ['F1', 'SF24', 'Carlos Sainz', 'Charles Leclerc', 'Formula 1']}\n",
      "{'title': 'Je les ai emmené dans un bourbier... (Avec Joyca, Zafeel et Hctuan)', 'duration': 'PT25M41S', 'ViewCount': '427463', 'likeCount': '35819', 'commentCount': '324', 'tags': ['mastu', 'mastutv', 'matsu', 'mastus', 'humour', 'mastu gear', 'mastu gage', 'mastu feve', 'mastu joyca', 'joyca', 'mastu zafeel', 'zafeel', 'hctuan', 'mastu hctuan']}\n",
      "{'title': \"France 2 fait la promo d'une imposture scientifique 🙄\", 'duration': 'PT23M', 'ViewCount': '75017', 'likeCount': '12085', 'commentCount': '1687', 'tags': ['Quelle époque', 'débunk', 'journalisme', 'science', 'scientifique']}\n",
      "{'title': 'POURQUOI J’AI DU QUITTER LA FRANCE', 'duration': 'PT44M36S', 'ViewCount': '224510', 'likeCount': '13560', 'commentCount': '502', 'tags': ['lina', 'mehboula', 'misslinoush', 'linettee', 'lina tiktok']}\n",
      "{'title': 'GIMS & Lossa - LOCO (Clip officiel)', 'duration': 'PT2M42S', 'ViewCount': '262167', 'likeCount': '18904', 'commentCount': '778', 'tags': ['gims clip', \"gims j'arrive en petard\", 'gims 2024', 'gims lossa', 'gims petit genie', 'gims jungeli', 'lossa paroles', 'gims lyrics', 'gims lyrics video officielle', 'gims officiel', 'gims loco officiel']}\n",
      "{'title': \"Judith Godrèche revient sur l'émission de Laure Adler en 1995 - C Ce soir du 12 février 2024\", 'duration': 'PT10M30S', 'ViewCount': '83767', 'likeCount': '885', 'commentCount': '901', 'tags': ['france 5', 'C Ce Soir', 'Karim Rissouli', 'débat', 'france télévisions', 'thomas snégaroff', 'Camille Diao', 'Judith godreche', 'laure adler', 'benoit jacquot', 'cercle de minuit', 'ina']}\n",
      "{'title': 'Victor Wembanyama Drops Rare Triple-Double - 10 BLOCKS 😮| February 12, 2024', 'duration': 'PT4M22S', 'ViewCount': '367680', 'likeCount': '6616', 'commentCount': '1254', 'tags': ['Basketball', 'G League', 'NBA', 'game-0022300764']}\n",
      "{'title': 'LES VIDÉOS LES PLUS FLIPPANTES DE YOUTUBE IX', 'duration': 'PT18M16S', 'ViewCount': '498526', 'likeCount': '34806', 'commentCount': '958', 'tags': ['LE', 'GRAND', 'JD', 'LEGRANDJD', 'LGJD', 'legrandjd']}\n",
      "{'title': 'LE JEU DE LA FÈVE (Avec Joyca, Zafeel et Hctuan)', 'duration': 'PT35M30S', 'ViewCount': '1952389', 'likeCount': '149115', 'commentCount': '1706', 'tags': ['Mastu', 'Mastus', 'Humour', 'Matsu', 'loat', 'mastu loat', 'mastu feve', 'mastu joyca', 'joyca', 'joyca feve', 'zafeel', 'hctuan', 'mastu zafeel', 'mastu hctuan']}\n",
      "{'title': \"Jacques Brel - Fernand - Alphonse | The Voice 2024 | Audition à l'Aveugle\", 'duration': 'PT3M57S', 'ViewCount': '120103', 'likeCount': '1302', 'commentCount': '118', 'tags': ['the voice france', 'the voice la plus belle voix', 'nikos aliagas', 'the voice tf1', 'the voice', 'tvlpbv', 'cover', 'the voice 2024', 'Vianney', 'Mika', 'Zazie', 'BigFlo et Oli', 'Alphonse', 'Fernand', 'Jacques Brel', 'TF1+']}\n",
      "pas de de tags\n",
      "{'title': 'ON PARLE DES PREMIÈRES FOIS feat Wejdene', 'duration': 'PT50M4S', 'ViewCount': '239834', 'likeCount': '11600', 'commentCount': '294', 'tags': 'none'}\n",
      "{'title': 'PILE OU FACE CHALLENGE EXTRÊME (avec TheoBabac)', 'duration': 'PT48M46S', 'ViewCount': '208890', 'likeCount': '20243', 'commentCount': '330', 'tags': ['snaptrox', 'theo babac', 'pile ou face', 'pile ou face challenge', 'theobabac', 'snaptrox theobabac', 'theodort pile ou face', 'challenge extreme']}\n",
      "pas de de tags\n",
      "{'title': 'Face Your Biggest Fear To Win $800,000', 'duration': 'PT22M3S', 'ViewCount': '75897900', 'likeCount': '3413573', 'commentCount': '135366', 'tags': 'none'}\n",
      "pas de de tags\n",
      "{'title': 'un ARC pas ouf ? - AMAZON LILY - ONE PIECEOLOGIE 20', 'duration': 'PT14M27S', 'ViewCount': '50523', 'likeCount': '5537', 'commentCount': '234', 'tags': 'none'}\n",
      "{'title': \"Test : Helldivers 2, C'est Ouf ! Le passage à la 3D est une réussite\", 'duration': 'PT19M38S', 'ViewCount': '28659', 'likeCount': '1635', 'commentCount': '146', 'tags': ['helldivers', 'coop', 'ps5', 'pc', 'test']}\n",
      "pas de de tags\n",
      "{'title': 'Ces villes où tu ne dois JAMAIS ALLER ! 🌇❌', 'duration': 'PT13M32S', 'ViewCount': '372647', 'likeCount': '23535', 'commentCount': '564', 'tags': 'none'}\n",
      "{'title': 'Crystal Palace 1-3 Chelsea | HIGHLIGHTS | Premier League 2023/24', 'duration': 'PT2M1S', 'ViewCount': '1304800', 'likeCount': '30100', 'commentCount': '842', 'tags': ['chelsea', 'chelsea fc', 'fc chelsea', 'cfc', 'chelsea football club', 'football', 'soccer', 'sport', 'chelsea tv', '첼시', 'челси', 'crystal palace v chelsea', 'crystal palace 1-3 chelsea', 'chelsea win 3-1 v crystal palace', 'chelsea highlights v crystal palace', 'conor gallagher v crystal palace', 'conor gallagher goals', 'enzo fernandez goal v crystal palace', 'chelsea 2 min highlights', 'premier league highlights 23/24', 'premier league highlights', 'crystal palace']}\n",
      "{'title': 'MA PREMIÈRE NUIT À L’APPART', 'duration': 'PT20M45S', 'ViewCount': '238674', 'likeCount': '15957', 'commentCount': '159', 'tags': ['mayadorable']}\n",
      "{'title': 'Les SECRETS cachés derrière ONE PIECE. 👒', 'duration': 'PT25M35S', 'ViewCount': '194347', 'likeCount': '12739', 'commentCount': '321', 'tags': ['Manga', 'Animé', 'one piece', 'manga trash', 'oda', 'secrets', 'anecdotes', 'luffy', 'histoire', 'secret', 'pirates', 'Manga Trash', 'Chauve Burlesque', 'Trash', 'Cinema Trash', 'Pokemon Trash', 'One Piece', 'Luffy', 'Ace', 'Shanks', 'Mugiwara', 'Gear', 'Gear 5', 'Pirate', 'Nami', 'zoro', 'Sanji', 'gol d roger', 'Xebec', 'vegapunk', 'kizaru']}\n",
      "{'title': 'Et si je changeais de véhicule Aménagé #fourgonaménagé #vanlife #vienomade #nomade  - Voyage Voyages', 'duration': 'PT26M42S', 'ViewCount': '43791', 'likeCount': '7305', 'commentCount': '701', 'tags': ['van life', 'vivre autrement', 'changer de vie', 'liberté', 'tuto camping car', 'tuto fourgon aménagé', 'm**** a celui ou celle qui lit mes tags', 'fiat ducato', 'peugeot boxer', 'Citroën jumper', 'voyage', 'voyages']}\n",
      "{'title': 'La Planète des Singes : Le Nouveau Royaume - Bande-annonce officielle (VF) | 20th Century Studios', 'duration': 'PT2M31S', 'ViewCount': '73143', 'likeCount': '530', 'commentCount': '40', 'tags': ['20th century studios', 'films', 'film', 'trailer', 'bande annonce', 'clip', 'ciné', '20thcenturystudios', 'cinéma', 'movie', 'teaser', 'sortie', 'officiel', 'officielle', 'la planète des singes', 'le nouveau royaume', 'césar', 'noa', 'nova', 'empire', 'knowledge is power', 'kingdom of the apes']}\n",
      "{'title': 'Dadju & Tayc - I love you (Clip officiel)', 'duration': 'PT3M21S', 'ViewCount': '614384', 'likeCount': '42126', 'commentCount': '1491', 'tags': ['i love you clip', 'dadju tayc clip', 'dadju i love you', 'tayc i love you', \"et si je te dit que je t'aime\", 'dadju tayc', 'tayc dadju', 'dadju tayc album', 'tayc dadju album', 'projet commun tayc dadju', 'projet commun dadju tayc', 'tayc dadju album commun', 'dadju tayc album commun']}\n",
      "pas de de tags\n",
      "{'title': '4 MOSQUÉES BIZARRES cachées en FRANCE', 'duration': 'PT13M55S', 'ViewCount': '62762', 'likeCount': '5161', 'commentCount': '388', 'tags': 'none'}\n",
      "pas de de tags\n",
      "{'title': \"Beyoncé - TEXAS HOLD 'EM (Official Visualizer)\", 'duration': 'PT3M58S', 'ViewCount': '2051843', 'likeCount': '136259', 'commentCount': '10182', 'tags': 'none'}\n",
      "{'title': 'ANALYSE TRAILER DEADPOOL 3 & WOLVERINE', 'duration': 'PT11M27S', 'ViewCount': '32115', 'likeCount': '2930', 'commentCount': '143', 'tags': ['loki', 'saison 2', 'magneto', 'Wolverine', 'Logan', 'Deadpool 3', 'hugh jackman', 'X-Men', 'X men', 'Avengers', 'Kang Dynasty', 'Secret Wars', 'deadpool', 'NOUVEAUX', 'AVENGERS', 'Nova', 'Avengers 5', 'nouvelles', 'fuites', 'leak', 'analyse et théorie', 'Thor 4', 'Thanos', 'iro sef', 'iro', 'sef', 'théorie', 'ultime', 'analyse', 'Avengers 4', 'endgame', 'Doctor', 'Strange', 'Analyse', 'review', 'critique', 'secret', 'vérité', 'mcu', 'trailer', 'théories', 'mystère', 'teaser', 'fuite', 'scène', 'marvel', 'nouveau', 'fin', 'Wanda', 'xmen', 'mutant', 'tva', 'battleworld', 'synopsis', 'bande', 'annonce', 'wade', 'cassandra', 'paradox']}\n",
      "pas de de tags\n",
      "{'title': \"J'ai Transformé Sa PIÈCE SECRÈTE En STITCH Epic Room\", 'duration': 'PT16M45S', 'ViewCount': '516056', 'likeCount': '18151', 'commentCount': '941', 'tags': 'none'}\n",
      "{'title': 'CRISE DE COUPLE - Best of ZeratoR #381', 'duration': 'PT26M58S', 'ViewCount': '98004', 'likeCount': '4466', 'commentCount': '43', 'tags': ['ZeratoR', 'Gaming', 'Best of', 'Twitch', 'streaming', 'youtubeur', 'condensé', 'stream', 'zevent', 'replay', 'live', 'zerator', 'zerator rediffusion', 'zerator replay', 'redif', 'zlan', 'tmcup', 'trackmania', 'trackmania cup', 'fling to the finish', 'valorant', 'mandatory', 'valiant', 'world of warcraft', 'season of discovery', 'pexing', 'star trucker', 'oddsparks', 'pacific drive', 'lightyear frontier', 'indies', 'steam neo fest', 'demo', 'oh baby kart', 'antoine daniel', 'angle droit', 'jdg', 'joueur du grenier', 'mynthos', 'baghera', 'soirée du lundi', 'team du lundi', 'warhammer']}\n",
      "{'title': \"C'EST MON APOGÉE\", 'duration': 'PT35M5S', 'ViewCount': '38882', 'likeCount': '2685', 'commentCount': '188', 'tags': ['league', 'of', 'legends', 'adc', 'challenger', 'korean', 'coreen', 'urf', 'one', 'for', 'all', 'alderiate', 'rhobalas', 'marex', 'chap', 'solary', 'vayne', 'guide', 'tuto', 'twitch', 'streamer', 'bestof', 'flex', 'gang', 'montage', 'poe', 'lcs', 'lfl', 'eum', 'League Of Legends', 'Solary', 'MASTER', 'GRAND', 'Challenger', 'Chevrex', 'OTP', 'Kaisa', 'Kai Sa', 'Lucian', 'Senna', 'viego', 'arcane', 'vex', 'gwen', 'jinx', 'vi', 'jayce', 'worlds', 'RENATA', 'zeri', \"k'sante\", 'ksante', 'yasuo', 'yone', 'mid', 'react']}\n",
      "pas de de tags\n",
      "{'title': 'Candide Thovex - Skiing around Tignes', 'duration': 'PT54S', 'ViewCount': '101260', 'likeCount': '5670', 'commentCount': '306', 'tags': 'none'}\n",
      "{'title': 'DEUX NUITS AVEC VAL LIENARD !!', 'duration': 'PT43M44S', 'ViewCount': '40525', 'likeCount': '2360', 'commentCount': '149', 'tags': ['Deux nuits avec', '2 nuits avec', 'Val Liénard', 'Valentin Lienard', 'Footballeur', 'Thonon Evian Grand Genève', 'Foot amateur', 'Foot pro', 'Ligue 1', 'Ligue 2', 'OGC Nice', 'Nice', 'Monaco', 'AS Monaco', 'Kylian Mbappé', 'Mbappé', 'Mbappe', 'PSG', 'QDF', 'Que du foot', 'Foot', 'Youtubeur', 'YouTuber']}\n",
      "pas de de tags\n",
      "{'title': 'Wicked - First Look', 'duration': 'PT1M1S', 'ViewCount': '3335946', 'likeCount': '93044', 'commentCount': '9493', 'tags': 'none'}\n",
      "{'title': 'Le projet web le plus abouti de ma carrière (mon SaaS)', 'duration': 'PT16M48S', 'ViewCount': '39286', 'likeCount': '3476', 'commentCount': '448', 'tags': ['benjamin code', 'web developer', 'developer frontend', 'frontend', 'creative developer', 'aristide benoist', 'awwwards', 'learn how to code']}\n",
      "{'title': 'Un Bon Moment avec BÉRENGÈRE KRIEF & MANU PAYET', 'duration': 'PT1H16M53S', 'ViewCount': '100123', 'likeCount': '2300', 'commentCount': '90', 'tags': ['un bon moment', 'kyan khojandi', 'navo', 'Bérengère krief', 'manu payet']}\n",
      "{'title': '10 Jeux originaux & indépendants (2024)', 'duration': 'PT17M6S', 'ViewCount': '161783', 'likeCount': '16257', 'commentCount': '542', 'tags': ['Top jeux 2024', 'jeux indé', 'jeux indé 2024', 'jeux indépendants', 'top 10', 'top 15', 'meilleurs jeux', 'prochains jeux', 'playstation 5', 'ps5', 'xbox one', 'ps4', 'xbox series x', 'playstation 4', 'nintendo switch', 'PC', 'jeux 2024', 'top jeux PC 2024', 'top jeux PS5 2024', 'top jeux xbox 2024', 'Gameplay', 'classement', 'meilleur', 'Jean-Baptiste', 'JeanBaptisteShow', 'français', 'fr', 'Jean-Baptiste Show', 'jbshow', 'The alters', 'Neva', 'Flintlock', 'Pacific Drive']}\n",
      "{'title': \"TEN 텐 'Nightwalker' MV\", 'duration': 'PT3M27S', 'ViewCount': '1225386', 'likeCount': '100533', 'commentCount': '9030', 'tags': ['nct', 'wayv', '엔시티', '웨이션 브이', '웨이비', '威神V', '텐', 'ten', '미니 1집', '1st mini album', 'nightwalker', 'mv', 'music video', '뮤비', '뮤직비디오']}\n",
      "pas de de tags\n",
      "{'title': 'Beyoncé - 16 CARRIAGES (Official Visualizer)', 'duration': 'PT3M54S', 'ViewCount': '1839477', 'likeCount': '141578', 'commentCount': '8893', 'tags': 'none'}\n",
      "{'title': \"Judith Godrèche - Benoit Jacquot : pourquoi personne n'a réagi avant ? - C Politique 11 février 2024\", 'duration': 'PT11M13S', 'ViewCount': '72028', 'likeCount': '510', 'commentCount': '331', 'tags': ['france 5', 'C Ce Soir', 'Karim Rissouli', 'débat', 'france télévisions', 'thomas snégaroff', 'Camille Diao', 'Judith Godreche', 'benoit jacquot', 'cinema', 'cinema français']}\n",
      "{'title': 'QUI EST LE COUPABLE ? On juge vos COUPLES (les histoires sont FOLLES)', 'duration': 'PT44M23S', 'ViewCount': '1651987', 'likeCount': '105638', 'commentCount': '1432', 'tags': ['amixem', 'humour', 'delire', 'tribunal', 'challenge', 'couple', 'dispute', 'saint valentin', 'rupture']}\n",
      "pas de de tags\n",
      "{'title': 'Didi B - Mal à la vie ft. @gauloisofficiel (Official video)', 'duration': 'PT3M16S', 'ViewCount': '140431', 'likeCount': '17263', 'commentCount': '772', 'tags': 'none'}\n",
      "{'title': 'Slimane - Mon Amour | France 🇫🇷 | Official Music Video | Eurovision 2024', 'duration': 'PT3M10S', 'ViewCount': '70783', 'likeCount': '3651', 'commentCount': '586', 'tags': ['Eurovision Song Contest', 'Eurovision', 'EurovisionNews', 'Eurovision 2023', 'ESC2023', 'Måneskin', 'Duncan Laurence', 'NETTA', 'Kalush Orchestra', 'Eurovision News', 'Liverpool 2023', 'Eurovision Tickets', 'EBU', 'Eurovision 2024', 'ESC2024', '#UnitedByMusic']}\n",
      "{'title': \"INOXTAG : DERNIÈRE LIGNE DROITE AVANT L'EVEREST!!! (Hairtist talk #1)\", 'duration': 'PT39M56S', 'ViewCount': '109132', 'likeCount': '11069', 'commentCount': '272', 'tags': ['inox', 'barber', 'hairtist', 'défi', 'challenge', 'inoxtag', 'everest', 'talk', 'coiffure', 'coupe homme', 'dégradé']}\n",
      "{'title': 'RÉACTION au TRAILER de DEADPOOL & WOLVERINE !', 'duration': 'PT8M50S', 'ViewCount': '32342', 'likeCount': '2417', 'commentCount': '223', 'tags': ['Marvel', 'DC Comics', 'Pixar', 'Star Wars', 'Stranger Things', 'Théories', 'Théorie', 'Jeux Vidéos', 'Films', 'Rumeurs', 'Série']}\n",
      "pas de de tags\n",
      "{'title': 'Que vaut vraiment la NATUROPATHIE ? [PSNC]', 'duration': 'PT17M34S', 'ViewCount': '35272', 'likeCount': '3439', 'commentCount': '503', 'tags': 'none'}\n",
      "{'title': \"Six Nations 2024 : Le résumé d'Écosse vs France\", 'duration': 'PT10M28S', 'ViewCount': '249887', 'likeCount': '3036', 'commentCount': '607', 'tags': ['Bielle Biarrey', 'Ecossse France', 'Resume 6 Nations', 'Resume Ecosse France', 'Resume France Ecosse', 'Resume Rugby', 'Rugby', 'Six Nations', 'Six Nations 2024', 'XV de France']}\n",
      "{'title': 'GAZOILE DE RETOUR, ACCOMPAGNÉ PAR SON DARON ; ILS SONT FULL TESTO !!', 'duration': 'PT31M9S', 'ViewCount': '32159', 'likeCount': '1709', 'commentCount': '156', 'tags': ['musculation', 'efkan', 'sèche', 'force', 'pectoraux', 'abdo', 'sixpack', 'prozis', 'zves', 'kurnaz', 'gazoile', 'prise de masse', 'sport', 'nutrition', 'genetix', 'transformation']}\n",
      "pas de de tags\n",
      "{'title': \"LA COUPE INTERTOTO (QUAND LA FRANCE ROULAIT SUR L'EUROPE)\", 'duration': 'PT15M40S', 'ViewCount': '183872', 'likeCount': '17212', 'commentCount': '557', 'tags': 'none'}\n"
     ]
    }
   ],
   "source": [
    "get_channel_stats(youtube, \"UCWeg2Pkate69NFdBeuRFTAw\")\n",
    "print(\"ok\")\n",
    "print(get_video_info(youtube,exemple_video))\n",
    "get_video_info_top_50(youtube)"
   ]
  }
 ],
 "metadata": {
  "kernelspec": {
   "display_name": "Python 3",
   "language": "python",
   "name": "python3"
  },
  "language_info": {
   "codemirror_mode": {
    "name": "ipython",
    "version": 3
   },
   "file_extension": ".py",
   "mimetype": "text/x-python",
   "name": "python",
   "nbconvert_exporter": "python",
   "pygments_lexer": "ipython3",
   "version": "3.10.9"
  }
 },
 "nbformat": 4,
 "nbformat_minor": 2
}
