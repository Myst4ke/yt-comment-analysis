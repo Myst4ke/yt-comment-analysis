{
 "cells": [
  {
   "cell_type": "markdown",
   "metadata": {},
   "source": [
    "# YT Comments analysis"
   ]
  },
  {
   "cell_type": "code",
   "execution_count": 1,
   "metadata": {},
   "outputs": [
    {
     "name": "stderr",
     "output_type": "stream",
     "text": [
      "C:\\Users\\jerem\\AppData\\Local\\Temp\\ipykernel_8556\\3630711097.py:2: DeprecationWarning: \n",
      "Pyarrow will become a required dependency of pandas in the next major release of pandas (pandas 3.0),\n",
      "(to allow more performant data types, such as the Arrow string type, and better interoperability with other libraries)\n",
      "but was not found to be installed on your system.\n",
      "If this would cause problems for you,\n",
      "please provide us feedback at https://github.com/pandas-dev/pandas/issues/54466\n",
      "        \n",
      "  import pandas as pd\n"
     ]
    }
   ],
   "source": [
    "from googleapiclient.discovery import build\n",
    "import pandas as pd\n",
    "from api import API_KEY\n",
    "\n",
    "\n",
    "channel_id = \"UCWeg2Pkate69NFdBeuRFTAw\" #Squeezie channel\n",
    "youtube = build('youtube', 'v3', developerKey=API_KEY)\n",
    "exemple_video = \"qCKyRhkhqoQ\""
   ]
  },
  {
   "cell_type": "code",
   "execution_count": 2,
   "metadata": {},
   "outputs": [],
   "source": [
    "def get_channel_stats(youtube, channel_id):\n",
    "    request = youtube.channels().list(\n",
    "        part=\"snippet,contentDetails,statistics\",\n",
    "        id=channel_id\n",
    "    )\n",
    "    response = request.execute()\n",
    "    data = {\n",
    "        \"channel_name\": response['items'][0]['snippet']['title'],\n",
    "        \"channel_id\": response['items'][0]['id'],\n",
    "        \"stats\": response['items'][0]['statistics'],\n",
    "        \n",
    "    }\n",
    "    return data"
   ]
  },
  {
   "cell_type": "code",
   "execution_count": 3,
   "metadata": {},
   "outputs": [],
   "source": [
    "def get_Most_Popular_Video_id(youtube):\n",
    "    request = youtube.videos().list(\n",
    "        part=\"snippet\",\n",
    "        chart=\"mostPopular\",\n",
    "        regionCode=\"FR\",\n",
    "        maxResults=100  \n",
    "    )\n",
    "    response = request.execute()\n",
    "    id_top_video = []\n",
    "    for i in range(len(response['items'])):\n",
    "        id_top_video.append((response['items'][i]['snippet']['thumbnails']['default']['url'].split(\"/\"))[4])\n",
    "    \n",
    "    return id_top_video"
   ]
  },
  {
   "cell_type": "code",
   "execution_count": 4,
   "metadata": {},
   "outputs": [],
   "source": [
    "def get_comment_id(youtube,video_Id):\n",
    "    request = youtube.commentThreads().list(\n",
    "        part=\"snippet\",\n",
    "        videoId=video_Id,\n",
    "        maxResults=10,\n",
    "    )\n",
    "    response = request.execute()\n",
    "    id=[]\n",
    "    for i in range(len(response['items'])):       \n",
    "            id.append(response['items'][i][\"id\"])\n",
    "          \n",
    "    \n",
    "    return id"
   ]
  },
  {
   "cell_type": "code",
   "execution_count": 5,
   "metadata": {},
   "outputs": [],
   "source": [
    "def get_comment(youtube,comment_id):\n",
    "    request = youtube.comments().list(\n",
    "        part=\"snippet\",\n",
    "        id=comment_id,\n",
    "    )\n",
    "    response = request.execute()\n",
    "    comment=[]\n",
    "    viewerRating=[]\n",
    "    likeCount=[]\n",
    "    publishedAt=[]\n",
    "    for i in range(len(response['items'])):       \n",
    "            comment.append(response['items'][i]['snippet']['textOriginal'])\n",
    "            viewerRating.append(response['items'][i]['snippet']['viewerRating'])\n",
    "            likeCount.append(response['items'][i]['snippet']['likeCount'])\n",
    "            publishedAt.append(response['items'][i]['snippet']['publishedAt'])\n",
    "    data = {\n",
    "        \"comment\":comment,\n",
    "        \"viewerRating\":viewerRating,\n",
    "        \"likeCount\":likeCount,\n",
    "        \"publishedAt\":publishedAt,\n",
    "        }\n",
    "    \n",
    "    return data"
   ]
  },
  {
   "cell_type": "code",
   "execution_count": 6,
   "metadata": {},
   "outputs": [],
   "source": [
    "def get_all_comment(youtube,videoId):\n",
    "    id=get_comment_id(youtube,videoId)\n",
    "    for i in id : \n",
    "        print(get_comment(youtube,i))\n",
    "        "
   ]
  },
  {
   "cell_type": "code",
   "execution_count": 7,
   "metadata": {},
   "outputs": [],
   "source": [
    "def get_video_info(youtube,video_Id):\n",
    "    request = youtube.videos().list(\n",
    "        part=\"snippet,statistics,contentDetails\",\n",
    "        id=video_Id,\n",
    "    )\n",
    "    response = request.execute()\n",
    "   \n",
    "    data = {\n",
    "            \"title\": response['items'][0]['snippet']['title'],\n",
    "            \"duration\" : response['items'][0]['contentDetails']['duration'],\n",
    "            \"ViewCount\" : response['items'][0]['statistics']['viewCount'],\n",
    "            \"commentCount\" : response['items'][0]['statistics']['commentCount'],    \n",
    "    }\n",
    "    try:\n",
    "        data[\"likeCount\"]=response['items'][0]['statistics']['likeCount']\n",
    "        data[\"tags\"]=response['items'][0]['snippet']['tags']\n",
    "    except: \n",
    "        data[\"tags\"]=\"none\"\n",
    "        data[\"likeCount\"]=\"none\"\n",
    "        print(\"pas de de tags\")\n",
    "    \n",
    "    return data"
   ]
  },
  {
   "cell_type": "code",
   "execution_count": 8,
   "metadata": {},
   "outputs": [],
   "source": [
    "\n",
    "def get_video_info_top_50(youtube):\n",
    "    top_50_id=get_Most_Popular_Video_id(youtube)\n",
    "    print(top_50_id)\n",
    "    for i in top_50_id :\n",
    "        print(get_video_info(youtube,i))\n",
    "        "
   ]
  },
  {
   "cell_type": "code",
   "execution_count": 9,
   "metadata": {},
   "outputs": [
    {
     "name": "stdout",
     "output_type": "stream",
     "text": [
      "['UgxCPLRy0iH5mcVyQpB4AaABAg', 'UgwIbGe4KgzXzFyLpLN4AaABAg', 'UgxM3IHqKCS9qF4d_rJ4AaABAg', 'UgwrqlGVir1aX9Dv4p94AaABAg', 'Ugx-h6VBs_xcv-mJxrZ4AaABAg', 'UgzVaQ6BXAnQvkiKc-B4AaABAg', 'Ugx6jJc1qc7ahhn7oT54AaABAg', 'UgwJybiT3gv7dtz79tB4AaABAg', 'UgyVfh8sQm28jORnYSt4AaABAg', 'UgytaTnchEla4TVeswx4AaABAg']\n",
      "{'comment': ['Je suis en fou rire sur le calendrier'], 'viewerRating': ['none'], 'likeCount': [7002], 'publishedAt': ['2024-02-10T12:10:07Z']}\n",
      "{'comment': [\"Naaaan les cactuuus c'était trooooop\"], 'viewerRating': ['none'], 'likeCount': [0], 'publishedAt': ['2024-02-19T19:17:23Z']}\n",
      "{'comment': ['Plagia de michou'], 'viewerRating': ['none'], 'likeCount': [0], 'publishedAt': ['2024-02-19T18:33:48Z']}\n",
      "{'comment': [\"7:09 j'avais vu quand il a caché sa fève\"], 'viewerRating': ['none'], 'likeCount': [1], 'publishedAt': ['2024-02-19T16:32:08Z']}\n",
      "{'comment': ['👆👆👆👆\\n*Trop beau les tresses mastu et la vidéo est incroyable comme toujours et les invités sont masterclass*'], 'viewerRating': ['none'], 'likeCount': [110], 'publishedAt': ['2024-02-19T16:31:44Z']}\n",
      "{'comment': [\"Le chef qui a fait les frangipane il a fait une vidéo et t'avais une photo de vous😂\"], 'viewerRating': ['none'], 'likeCount': [0], 'publishedAt': ['2024-02-19T13:46:52Z']}\n",
      "{'comment': ['Ceux qui ont regardé la vidéo de Michou ici'], 'viewerRating': ['none'], 'likeCount': [0], 'publishedAt': ['2024-02-19T13:21:00Z']}\n",
      "{'comment': [\"Excellente video, juste, quelqu'un aurait la ref du sweat de joyca 🙏 ?\"], 'viewerRating': ['none'], 'likeCount': [0], 'publishedAt': ['2024-02-19T12:57:30Z']}\n",
      "{'comment': [\"Spoiler c'est la vraie tradition d'avoir deux fèves dans la frangipane 😂😂\"], 'viewerRating': ['none'], 'likeCount': [0], 'publishedAt': ['2024-02-19T07:35:21Z']}\n",
      "{'comment': ['👍🏼 !'], 'viewerRating': ['none'], 'likeCount': [0], 'publishedAt': ['2024-02-18T22:04:22Z']}\n"
     ]
    }
   ],
   "source": [
    "#print(get_video_comments(youtube,exemple_video))\n",
    "\n",
    "print(get_comment_id(youtube,exemple_video))\n",
    "get_all_comment(youtube,exemple_video)"
   ]
  },
  {
   "cell_type": "code",
   "execution_count": 10,
   "metadata": {},
   "outputs": [
    {
     "name": "stdout",
     "output_type": "stream",
     "text": [
      "ok\n",
      "{'title': 'LE JEU DE LA FÈVE (Avec Joyca, Zafeel et Hctuan)', 'duration': 'PT35M30S', 'ViewCount': '2470891', 'commentCount': '1890', 'likeCount': '174570', 'tags': ['Mastu', 'Mastus', 'Humour', 'Matsu', 'loat', 'mastu loat', 'mastu feve', 'mastu joyca', 'joyca', 'joyca feve', 'zafeel', 'hctuan', 'mastu zafeel', 'mastu hctuan']}\n",
      "['4LZ4BuAkNyU', 'KuKBufX9Bb4', 'bNKXxwOQYB8', 's6VDeqIhq7c', 'S6C9IT_F0VY', '9y0Ui2E0ERo', '5C_Wj77Enu8', 'AZDW72VS-ns', 'byreCv5JkEY', 'yic6l-QvAVk', 'vlA-1tNOuxI', 'R4t8kq3zK60', 'dSgnOkFSVLs', 'E7IGL4HJn4s', 'sfNdJpZR81Y', 'JbiBkKy4NFs', 'uPeAFCrvJ14', 'ymTjC9IRgQ0', 'orenwDmICxs', 'LX9kgMa0RW0', '14-4mzhaywo', 'LLSUTREIVxw', 'wNTEfwfbbMk', 'AEJdotnLKVc', '7R56p4nDLBU', '9XxBuGS9fhE', 'ee3-Fffgiwo', 'pT93Lpk8Iis', 'YizOOwvKWUY', 'EyTUxVW3eB8', 'UqsH1qG1o0E', 'VwJggqvxGUQ', 'AcjnWBXkFao', '7nJht-di8aY', 'jOJyNqTvYLs', 'EfyFuwBYjGQ', '6VIMCyNK_pQ', 'eNxb2wt11sM', 'kXaKa7NTY7w', '4vPrpLx8rvs', 'BtSZDb24xEQ', 'eYyDpJ-x-xw', 'EXYj9wecau4', 'lFhHcIB4mAY', 'g1-rZrpNZPs', '6-T5R71gXzU', 'T_BwYL6g3vI', 'a2I7KwOawZU', 'Rt8q-_5eqlA', 'In1XQUHMYKI']\n",
      "{'title': 'On survit 24h sur une île déserte avec Mastu et Maxime Biaggi', 'duration': 'PT49M29S', 'ViewCount': '513241', 'commentCount': '1042', 'likeCount': '57535', 'tags': ['billy', 'mastu', 'rebeudeter', 'Maxime', 'magaluf', 'aventure', 'survie', '24h', '24', 'heures', 'île', 'deserte']}\n",
      "{'title': 'Les IMAGES CACHÉES dans les DESSINS ANIMÉS (Le Roi Lion, Pokémon, La Petite Sirène...)', 'duration': 'PT29M52S', 'ViewCount': '591601', 'commentCount': '1137', 'likeCount': '31832', 'tags': ['sofyan', 'film', 'sofian', 'sofiane', 'cinéma', 'cinema', 'disney', 'pokémon', 'anime', 'dessin animé', 'walt disney', 'le roi lion', 'image subliminale', 'pub']}\n",
      "{'title': \"LE SSERAFIM (르세라핌) 'EASY' OFFICIAL MV\", 'duration': 'PT3M10S', 'ViewCount': '9689312', 'commentCount': '21135', 'likeCount': '525299', 'tags': ['HYBE', 'HYBE LABELS', '하이브', '하이브레이블즈']}\n",
      "pas de de tags\n",
      "{'title': 'GAUCHE GAUCHE DROITE DROITE : LE JEU (avec Freddy, Anis & un guest surprise qui les a tué de rire)', 'duration': 'PT41M40S', 'ViewCount': '153721', 'commentCount': '402', 'likeCount': 'none', 'tags': 'none'}\n",
      "{'title': \"Les premières vacances des Croûtons pour MJ, c'est partiiii ! 🏝️\", 'duration': 'PT12M40S', 'ViewCount': '314323', 'commentCount': '623', 'likeCount': '28337', 'tags': ['vacances', 'croûtons', 'pidi', 'valouzz', 'michou', 'inox', 'dobby', 'bouzi', 'vacances pour MJ', 'drôle', 'fun', 'familles']}\n",
      "pas de de tags\n",
      "{'title': 'LA FAQ DE LA VÉRITÉ (en me lissant les cheveux)', 'duration': 'PT24M29S', 'ViewCount': '171552', 'commentCount': '383', 'likeCount': 'none', 'tags': 'none'}\n",
      "{'title': 'Je traverse la frontière de la Corée du Nord ! - Episode Final', 'duration': 'PT28M9S', 'ViewCount': '363353', 'commentCount': '530', 'likeCount': '17931', 'tags': ['ludoc', 'studio bagel', 'tuto', 'bidouille', 'after effect', 'réalisation', 'vidéaste', 'cinéma']}\n",
      "{'title': 'Construire Un Igloo Sans Expérience (pour y passer la nuit...) 🥶', 'duration': 'PT29M54S', 'ViewCount': '209467', 'commentCount': '361', 'likeCount': '11687', 'tags': ['pmp', 'experience', 'apprendre', 'dormir', 'dormir dans un igloo', 'igloo', 'construire un igloo', 'comment construire un igloo', 'vivre dans un igloo', 'manger dans un igloo', 'dormir à la montagne', 'lieu insolite pour dormir', 'je construis un igloo', 'les étapes pour construire un igloo', 'portaledge', 'igloo diy', 'igloo house', 'igloo en montagne', 'apprendre à construire un igloo', 'marcher avec des raquettes', 'est possible de construire un igloo', 'igloo tuto', 'iglou', 'construire', 'comment', 'construire igloo', 'dormir igloo']}\n",
      "pas de de tags\n",
      "{'title': 'JEUX EN VRAC - No One Lives Forever', 'duration': 'PT21M43S', 'ViewCount': '696534', 'commentCount': '1529', 'likeCount': 'none', 'tags': 'none'}\n",
      "{'title': '🤯LE PSG 24 - 25 (SANS MBAPPÉ) VA ÊTRE INCROYABLE!', 'duration': 'PT26M14S', 'ViewCount': '82319', 'commentCount': '1209', 'likeCount': '7667', 'tags': ['foot', 'football', 'fr', 'paris saint germain', 'paris sg', 'mbappe', 'mbappe de retour', 'mbappe psg', 'mbappe real', 'mbappe dit oui au real', 'mbappe oui', 'mbappe quitte le psg', 'mbappe signe au real', 'mbappe au real', 'mbappe au real madrid', 'accord mbappe', 'mbappe reste au psg', 'mbappe prolonge', 'interview mbappe', 'mbaflix', 'mbappeflix', 'florentino perez', 'mercato', 'mbappe paris', 'l’équipe du soir', 'les videos de riles', 'wiloo', 'outsiderz', 'mercato psg', 'actu psg', 'conference de presse psg', 'fabrizio', 'fabrizio romano']}\n",
      "pas de de tags\n",
      "{'title': 'TOUS les PAPAS DISNEY, du pire au meilleur !', 'duration': 'PT15M39S', 'ViewCount': '148418', 'commentCount': '866', 'likeCount': 'none', 'tags': 'none'}\n",
      "pas de de tags\n",
      "{'title': 'UNE NUIT DANS LA SUITE LA PLUS CHÈRE DE FRANCE (avec Kalash Criminel)', 'duration': 'PT14M28S', 'ViewCount': '194825', 'commentCount': '322', 'likeCount': 'none', 'tags': 'none'}\n",
      "{'title': \"Jusqu'ici tout va bien - La semaine de Naïm\", 'duration': 'PT5M42S', 'ViewCount': '278590', 'commentCount': '753', 'likeCount': '22190', 'tags': ['Lamine Lezghad', 'Lezghad lamine', 'Sketch', 'Sketches', 'Humour', 'Lamine Lezghad spectacle', 'Spectacle lamine lezghad', 'Lamine lesghad', 'Lamine lesgad', 'Lamine lezgad', 'Lamine legsad', 'Lamine legzad', 'lesghad', 'lesgad', 'lezgad', 'legsad', 'legzad', 'lamine', 'humoriste', 'standup', 'stand up', 'stand-up', 'oneman', 'one man show', 'humour noir', 'naim', 'naim aka lamine', 'naïm', 'spectacle', 'libre pensée', 'visio streaming', 'visio', 'streaming', 'live', 'naime', 'naïme']}\n",
      "{'title': 'CHOC DES GÉNÉRATIONS (Ft. Jean Reno, Chantal Ladesou et Kev Adams)', 'duration': 'PT30M33S', 'ViewCount': '594957', 'commentCount': '1651', 'likeCount': '47305', 'tags': ['michou', 'jean', 'reno', 'kev', 'adams', 'chantal', 'ladesou', 'choc', 'generations', 'video', 'podcast', 'talk']}\n",
      "pas de de tags\n",
      "{'title': 'Carte Joker de Jérôme Commandeur - LOL : Qui rit, sort ! Saison 4 | Prime Video', 'duration': 'PT6M41S', 'ViewCount': '150554', 'commentCount': '100', 'likeCount': 'none', 'tags': 'none'}\n",
      "{'title': '24H DANS LA VOITURE LA PLUS PETITE DU MONDE', 'duration': 'PT44M29S', 'ViewCount': '1584629', 'commentCount': '2706', 'likeCount': '118546', 'tags': ['amixem', 'humour', 'delire']}\n",
      "{'title': \"Partir prendre l'air (seule)\", 'duration': 'PT23M26S', 'ViewCount': '69832', 'commentCount': '81', 'likeCount': '5896', 'tags': ['youtubeuse', 'beauté', 'annarvr']}\n",
      "pas de de tags\n",
      "{'title': 'Episode 251 : 24h mcdo avec ma mère (en PLS, elle vom**)', 'duration': 'PT35M34S', 'ViewCount': '280872', 'commentCount': '1277', 'likeCount': 'none', 'tags': 'none'}\n",
      "{'title': 'Couper une Voiture en 2 avec une Hache ? 🥵', 'duration': 'PT17M59S', 'ViewCount': '183268', 'commentCount': '303', 'likeCount': '8279', 'tags': ['scoot2street', 'scoot 2 street', 'scoot de street', 's2s', 'trottinette freestyle', 'defi', 'challenge extreme', 'scoot 2 street voiture', 'couper une voiture à la hache', 'Couper une Voiture en 2 avec une Hache ? 🥵']}\n",
      "{'title': \"Pourquoi l'Ukraine manque de munitions face à Poutine\", 'duration': 'PT8M24S', 'ViewCount': '281355', 'commentCount': '1802', 'likeCount': '4879', 'tags': ['Biden', 'Europe', 'Guerre en Ukraine', 'Poutine', 'Russie', 'Trump', 'Ukraine', 'Zelensky', 'armes', 'armes russes', 'armes ukraine', 'drones fpv.', 'guerre en ukraine', 'munitions', 'russie vs ukraine', 'ukraine russie explication', 'ukraine russie le monde']}\n",
      "{'title': \"24h DANS LA VIE D'UN KEBABIER\", 'duration': 'PT25M31S', 'ViewCount': '71103', 'commentCount': '326', 'likeCount': '6574', 'tags': ['serhat', 'more', 'kebab', 'turc']}\n",
      "{'title': \"Bon ben là , c'était le cheval de trop ...\", 'duration': 'PT35M37S', 'ViewCount': '56486', 'commentCount': '258', 'likeCount': '4698', 'tags': ['ems', 'ems motorsport', 'acav', 'reprog', 'carto', 'cartographie', 'banc', 'banc de puissance', 'essai', 'peugeot', 'vw', 'volkswagen', 'renault', 'fiat', 'porsche', 'ferrari', '106', '206', '306', '406', '205', '207', '208', '304', '305', '307', 'Audi S2', 's14a', 'silvia', 'golf', 'turbo', '4 pap', 'papillon', 'moteur', 'prépa', 'préparation', 'garage', 'atelier', 'sarreguemines', 'grosbliederstroff', 'youtube', 'mario', 'louis', 'échappement', 'flamme', 'bruit', 'piston', 'rupteur', 'ligne inox', 'inox', 'rallye', 'course', 'nurburgring', 'track day', 'circuit', 'vroum', 'accélération', 'couple', 'cv', 'nm', 'Nürburgring', 'farine de blé', 'fdb performance', 's2']}\n",
      "{'title': \"JE RECONSTRUIS LE PSG SANS MBAPPÉ (et c'est incroyable !!)\", 'duration': 'PT20M27S', 'ViewCount': '63968', 'commentCount': '88', 'likeCount': '3304', 'tags': ['af5', 'pack opening', 'draft', 'futchampions', 'pro fifa', 'psg af5', 'vidéo fifa', 'fifa france', 'arsenef5', 'arsene', 'tuto fifa', 'fifa af5', 'fifa francais', 'fifa fr', 'af5 fifa', 'youtubeur fifa', 'arsene fifa', 'fc24', 'fut 24', 'fc24 carrière', 'fc24 af5', 'fc24 francais', 'fc24 fr', 'fifa 24', 'fifa 24 af5', 'af5 fc24', 'fc24 fut', 'fc24 draft', 'fc24 défi', 'fc24 pro', 'fc24 drafts', 'fc24 vidéos', 'fc24 france', 'fifa 24 draft', 'FC24', 'EA FC 24', 'psg', 'mbappé', 'carrière af5', 'kylian mbappé', 'mbappé fifa', 'mbappé carrière', 'psg fifa']}\n",
      "{'title': 'MON AVIS HONNÊTE SUR LES FILMS DU STUDIO GHIBLI ! (On va se bagarrer)', 'duration': 'PT16M15S', 'ViewCount': '125965', 'commentCount': '477', 'likeCount': '11270', 'tags': ['kevin tran', 'kevin tran 陈科伟', 'rire jaune', 'le rire jaune', 'show jaune', 'le show jaune', 'kevin tran empereur', 'henry tran', 'ghibli', 'miyazaki']}\n",
      "{'title': 'MA FAMILLE M’INTERROGE SOUS DETECTEUR DE MENSONGES (j’suis foutu 😭)', 'duration': 'PT22M28S', 'ViewCount': '230334', 'commentCount': '741', 'likeCount': '28259', 'tags': ['sora', 'famille', 'sora famille', 'papa sora', 'maman sora', 'adeline', 'couple sora', 'soeur sora', 'frère sora', 'détecteur de mensonges', 'détecteur de mensonge Sora', 'MA FAMILLE M’INTERROGE SOUS DETECTEUR DE MENSONGES (j’suis foutu 😭)']}\n",
      "{'title': 'Cédric Doumbé, le champion de MMA roi du trash-talking', 'duration': 'PT16M', 'ViewCount': '494595', 'commentCount': '1627', 'likeCount': '12072', 'tags': ['Actualité', 'Yann Barthes', 'Quotidien', 'Quotidien Premiere Partie', 'TF1', 'TMC', 'interview', 'Cedric Doumbe', 'MMA', 'kick-boxing', 'trashtalking', 'champion', 'sportif', 'combat']}\n",
      "{'title': 'ON RANGE MON NOUVEAU DRESSING', 'duration': 'PT20M56S', 'ViewCount': '195660', 'commentCount': '134', 'likeCount': '14706', 'tags': ['mayadorable']}\n",
      "{'title': 'Pourquoi vous ne toucherez jamais (vraiment) rien ?', 'duration': 'PT17M6S', 'ViewCount': '98087', 'commentCount': '368', 'likeCount': '6677', 'tags': ['baladementale']}\n",
      "{'title': 'La Suite au Top - Scooby-Doo 2 : Les monstres se déchaînent', 'duration': 'PT16M4S', 'ViewCount': '51917', 'commentCount': '312', 'likeCount': '4971', 'tags': ['film', 'films', 'chronique', 'cinema', 'saga', 'humour', 'analyse', 'box office', 'critique', 'resume', 'la suite de trop', 'video', 'youtube', 'critique cinema', 'critique de film', 'Cinéphile', 'Karime Debbache', 'Crossed', 'Chroma', 'Guillaume Cassar', 'Notserious', 'ScoobyDoo', 'Scooby-Doo', 'Daphné', 'Vera', 'Sammy', 'Fred', 'Raja Gosnell', 'Cartoon Network', 'Canal J', 'DisneyChannel', 'Disney']}\n",
      "{'title': 'J. Triet et A. Harari remportent le BAFTA du meilleur scénario original pour \"Anatomie d\\'une chute\"', 'duration': 'PT2M13S', 'ViewCount': '34251', 'commentCount': '18', 'likeCount': '145', 'tags': ['77e cérémonie des bafta', \"Anatomie d'une chute\", 'Arthur Harari', 'Justine Triet', 'bafta 2024', 'baftas', 'baftas 2024', 'canalplus', 'cinéma', 'oscars anglais', 'récompense', 'statuette']}\n",
      "pas de de tags\n",
      "{'title': 'Une trop Belle Surprise \\U0001fa77', 'duration': 'PT19M34S', 'ViewCount': '59049', 'commentCount': '141', 'likeCount': 'none', 'tags': 'none'}\n",
      "{'title': 'Smart', 'duration': 'PT2M47S', 'ViewCount': '248852', 'commentCount': '920', 'likeCount': '21872', 'tags': ['LE SSERAFIM', 'EASY', 'Smart']}\n",
      "{'title': 'J’ai Payé un Hacker pour Monter Unreal sur Fortnite ! 😈', 'duration': 'PT11M40S', 'ViewCount': '66345', 'commentCount': '128', 'likeCount': '1766', 'tags': ['fortnite', 'troll', 'prank', 'hack', 'hacker', 'hacker fortnite', 'unreal', 'unreal fortnite', 'sup', 'suphugo']}\n",
      "{'title': \"Marvel, Netflix... le Français qui a percé à Hollywood (Tahar Rahim, l'interview face cachée)\", 'duration': 'PT25M59S', 'ViewCount': '47630', 'commentCount': '99', 'likeCount': '2331', 'tags': ['HugoDécrypte', 'Hugo', 'Travers', 'Hugo Travers', 'Actus', 'Reportage', 'Documentaire', 'Actus du jour']}\n",
      "{'title': 'DERNIER TRIMESTRE ! 🤰🏻', 'duration': 'PT22M25S', 'ViewCount': '95112', 'commentCount': '115', 'likeCount': '4285', 'tags': ['VLOGS', 'Hiloshow', 'hilo', 'hilona gos', 'hilo show', 'paulo', 'Paul-andré', 'ted', 'romy', 'Telerealité', 'télé', 'tv', 'tvshow', 'vlog', 'vidéo', 'hilona', 'w9', 'ex', 'rupture', 'pardon', 'passé', 'avenir', 'restaurants', 'Calvi', 'amour', 'amoureux', 'vacances', 'realité', 'corse', 'calvi', 'mer', 'bebe', 'baby', 'enfant', 'mere', 'pere', 'maman', 'papa', 'enceinte', 'nourisson', 'revelation', 'humour', 'commentaires', 'reaction', 'haters', 'julien', 'youtube', 'liste de naissance', 'achats', 'bébé', 'poussette', 'poulpi']}\n",
      "{'title': 'DE RETOUUUR: MA RUPTURE, SOIRÉES ET DÉPRIME. CHIT CHAT MAKEUP 2024', 'duration': 'PT10M26S', 'ViewCount': '39336', 'commentCount': '280', 'likeCount': '3520', 'tags': ['Maya', 'Maya bf', 'Drole', 'Humour', 'Storytime', 'Rupture', 'Couple', 'Makeup', 'Tuto', 'Tuto maquillage', 'Maquillage', 'FR', 'Français', 'Haul']}\n",
      "{'title': 'Quand la rénovation ne se passe pas comme prévu…  EP2', 'duration': 'PT25M41S', 'ViewCount': '40650', 'commentCount': '558', 'likeCount': '4925', 'tags': ['rénovation', 'passion rénovation', 'rénover sa maison', 'bandes placo', 'poser les bandes placo', 'enduit joint placo', 'outil pour faire les bandes placo', 'bazooka bandes joint', 'couteau à joint', 'comment poser les bandes à joint placo', 'comment coller les bandes placo', 'enduire les murs', 'fissure au mur', 'fissure au plafond', 'rénover cuisine', 'poser une cuisine', 'apprendre à rénover', 'rénovation maison', 'travaux', 'dévier plomberie', 'préparer une cuisine', 'traiter une fissure', 'réparer une fissure']}\n",
      "{'title': 'Swan Song', 'duration': 'PT2M38S', 'ViewCount': '314080', 'commentCount': '1039', 'likeCount': '27456', 'tags': ['LE SSERAFIM', 'EASY', 'Swan Song']}\n",
      "{'title': 'DEVINE LES COUPLES ! (Dating Or Siblings IRL ft. Kevin)', 'duration': 'PT29M36S', 'ViewCount': '483580', 'commentCount': '527', 'likeCount': '39978', 'tags': ['Henry', 'Le Rire jaune', 'Kevin Tran', 'Henry Tran', 'Cyprien', 'Locklear', 'Squeezie', 'Gotaga', 'Doigby', 'Mastu', 'Amixem', 'LOAT', 'Joyca', 'Théodore', 'Amine', \"Amine m'a tué\", 'Dating Or Siblings', 'Instagram', 'Devine le couple', 'Devine les couples', 'Frères et soeurs']}\n",
      "pas de de tags\n",
      "{'title': 'Salon Tour | Nouveaux meubles, diy et bricolage  ✨ Idées déco', 'duration': 'PT12M11S', 'ViewCount': '46992', 'commentCount': '271', 'tags': 'none', 'likeCount': 'none'}\n",
      "{'title': \"Je M'infiltre Dans Le Cache Cache de ce Youtubeur sur Fortnite !\", 'duration': 'PT16M45S', 'ViewCount': '38406', 'commentCount': '43', 'likeCount': '1568', 'tags': ['dhm', 'unchained', 'dhm fortnite', 'unchained fortnite', 'fortnite unreal', 'dhm 2.0', 'unchained off']}\n",
      "{'title': \"On a testé l’Apple Vision Pro (ft Inox, Joyca, LaBoiserie, et pleins d'autres gens cools...)\", 'duration': 'PT18M24S', 'ViewCount': '313520', 'commentCount': '351', 'likeCount': '10524', 'tags': ['charles et melanie', 'charles & mélanie', 'melanie buffetaud', 'charles poujade', 'charles mega mur', 'charles ninja warrior', 'charles ninja']}\n",
      "{'title': 'Werenoi (ft. Damso) - Pyramide (Clip Officiel)', 'duration': 'PT3M27S', 'ViewCount': '2612118', 'commentCount': '1934', 'likeCount': '53849', 'tags': ['werenoi', 'pyramide', 'PLR Music', 'PGP Records', 'Rap', 'Hip-Hop', 'Damso', 'Clip Officiel']}\n",
      "{'title': 'Qui Aura Le Pire Plat ? (Ft. Sora et Nico)', 'duration': 'PT43M25S', 'ViewCount': '487315', 'commentCount': '315', 'likeCount': '21852', 'tags': ['Fastgoodcuisine', 'Fastgood', 'Fastfood', 'Qui est', 'Qui est l’imposteur', 'l’imposteur', 'Plat piégé', 'Piégé', 'Qui est le menteur', 'Le menteur', \"qui est l'imposteur\", 'Qui Aura Le Plat Piégé ?', \"qui aura l'objet piégé\", 'challenge', 'Qui est l’imposteur ?', 'inox', 'inoxtag', 'fastgoodcuisine inoxtag', 'fastgoodcuisine inox', 'sora', 'univer de sora', 'sora vidéo', 'sora fastgoodcuisine', 'tsuku', 'mcdo', 'fastfood', 'qui aura', 'qui aura le pire plat', 'le pire plat du monde', 'food challenge']}\n",
      "pas de de tags\n",
      "{'title': \"MBAPPÉ AU PSG C'EST TERMINÉ..\", 'duration': 'PT14M54S', 'ViewCount': '65998', 'commentCount': '80', 'likeCount': 'none', 'tags': 'none'}\n",
      "{'title': 'LE JEU POUR FUMER TON CERVEAU !', 'duration': 'PT12M28S', 'ViewCount': '38944', 'commentCount': '93', 'likeCount': '5769', 'tags': ['dooms', 'gaming']}\n",
      "{'title': 'J’ENREGISTRE UN PÈRE DE FAMILLE (Il s’énerve contre moi…) #PDSLIFE19', 'duration': 'PT10M15S', 'ViewCount': '35116', 'commentCount': '53', 'likeCount': '3014', 'tags': ['Ibé', 'Ibepds', 'Ibeps', 'Alka', 'Lamine', 'Père de Lamine', 'J’enregistre', 'Père', 'De', 'Famille', 'Papa Lamine', 'Sénégal', 'Famille sénégal', 'Embrouille', 'VLS', 'Tiktok', 'Video', 'PDSlife', 'Histoire']}\n",
      "{'title': 'J13 : Cette équipe veut sa REVANCHE devant 300 personnes, un joueur PÈTE UN PLOMB', 'duration': 'PT31M11S', 'ViewCount': '223233', 'commentCount': '285', 'likeCount': '12955', 'tags': ['piedscarres', 'u17', 'serie U17', 'Serie U17 piedscarres', 'serie piedscarres', 'entrainement U17', 'st foy', 'said coach', 'coach U17', 'saison 2 U17', 'said piedscarres', 'the last dance', 'tahar', 'charles piedscarres', 'antoine piedscarres', 'martav', 'portugal', 'alf', 'futsal', 'futsal lyon', 'forez', 'forez futsal', 'lyon 6 futsal', 'antoine futsal', 'alf futsal', 'sport ethique futsal', 'futsal annecy', 'Saint Fons', 'rilleux', 'limonest', 'dardilly', 'tanane', 'skills futsal', 'voreppe', 'alf ol', 'ol futsal']}\n",
      "pas de de tags\n",
      "{'title': 'Palworld - LE PLAGIAT HONTEUX DE POKEMON', 'duration': 'PT12M32S', 'ViewCount': '621688', 'commentCount': '1252', 'likeCount': 'none', 'tags': 'none'}\n",
      "{'title': 'La meilleure Raclette de notre vie #2 ! (meilleurs fromages et charcuteries possibles)', 'duration': 'PT29M27S', 'ViewCount': '398084', 'commentCount': '388', 'likeCount': '22255', 'tags': ['Raclette', 'Meilleur Raclette', 'Fromage Raclette', 'Meilleur Fromage', 'Fromage Fondu', 'Valouzz', 'Dégustation', 'Pidi', 'Lebouseuh', 'Bouzi', 'Dobby', 'Dégustation Raclette', 'Meilleur Appareil à Raclette', 'Charcuterie', 'Meilleure Viande', 'Enorme Raclette']}\n"
     ]
    }
   ],
   "source": [
    "get_channel_stats(youtube, \"UCWeg2Pkate69NFdBeuRFTAw\")\n",
    "print(\"ok\")\n",
    "print(get_video_info(youtube,exemple_video))\n",
    "get_video_info_top_50(youtube)"
   ]
  },
  {
   "cell_type": "code",
   "execution_count": null,
   "metadata": {},
   "outputs": [],
   "source": []
  }
 ],
 "metadata": {
  "kernelspec": {
   "display_name": "Python 3",
   "language": "python",
   "name": "python3"
  },
  "language_info": {
   "codemirror_mode": {
    "name": "ipython",
    "version": 3
   },
   "file_extension": ".py",
   "mimetype": "text/x-python",
   "name": "python",
   "nbconvert_exporter": "python",
   "pygments_lexer": "ipython3",
   "version": "3.10.11"
  }
 },
 "nbformat": 4,
 "nbformat_minor": 2
}
