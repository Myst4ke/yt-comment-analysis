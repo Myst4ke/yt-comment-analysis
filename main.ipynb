{
 "cells": [
  {
   "cell_type": "markdown",
   "metadata": {},
   "source": [
    "# YT Comments analysis"
   ]
  },
  {
   "cell_type": "code",
   "execution_count": null,
   "metadata": {},
   "outputs": [],
   "source": [
    "from googleapiclient.discovery import build\n",
    "import pandas as pd\n",
    "from api import API_KEY\n",
    "\n",
    "channel_id = \"UCWeg2Pkate69NFdBeuRFTAw\" #Squeezie channel\n",
    "etoiles = 'UCABf02qOye7XYapcK1M45LQ'\n",
    "youtube = build('youtube', 'v3', developerKey=API_KEY)\n",
    "exemple_video = \"qCKyRhkhqoQ\"\n",
    "otp_recap = 'F7A8OCdmZ90'"
   ]
  },
  {
   "cell_type": "code",
   "execution_count": null,
   "metadata": {},
   "outputs": [],
   "source": [
    "class Request:\n",
    "    \"\"\" Class Request handling youtube request better \"\"\"\n",
    "    def __init__(self, requestType,part=None, id=None, chart=None, regionCode=None, maxResults=None, pageToken=None, videoId=None):\n",
    "        self.requestType = requestType\n",
    "        self.part = part\n",
    "        self.id = id\n",
    "        self.chart = chart\n",
    "        self.regionCode = regionCode\n",
    "        self.maxResults = maxResults\n",
    "        self.pageToken = pageToken\n",
    "        self.videoId = videoId\n",
    "        \n",
    "    def execute(self):\n",
    "        param = vars(self) # Fetch class attributes\n",
    "        param = {x:y for x,y in list(param.items())[1:] if y} # Delete requestType ([1:]) and None attributes\n",
    "        \n",
    "        request = self.requestType.list(**param)\n",
    "        return request.execute()"
   ]
  },
  {
   "cell_type": "code",
   "execution_count": null,
   "metadata": {},
   "outputs": [],
   "source": [
    "def format_channel_data(channel_data):\n",
    "    \"\"\" Structure raw channel data \"\"\"\n",
    "    data = {\n",
    "        \"channel_name\": channel_data.get('snippet', {}).get('title'),\n",
    "        \"channel_id\": channel_data.get('id'),\n",
    "        \"country\": channel_data.get('snippet', {}).get('country',\"\"),\n",
    "        \"stats\": channel_data.get('statistics'),\n",
    "        \"topics\": [wikilink.split('/')[-1] for wikilink in channel_data.get('topicDetails', {}).get('topicCategories', [])],\n",
    "    }\n",
    "    del data['stats']['hiddenSubscriberCount']\n",
    "    return data"
   ]
  },
  {
   "cell_type": "code",
   "execution_count": null,
   "metadata": {},
   "outputs": [],
   "source": [
    "def get_channel_data(youtube, channel_id):\n",
    "    \"\"\" Request (by id) for most important channel stats \"\"\"\n",
    "    request = Request(\n",
    "        requestType=youtube.channels(),\n",
    "        part=\"snippet,contentDetails,statistics,topicDetails\",\n",
    "        id=channel_id\n",
    "    )\n",
    "    response = request.execute()\n",
    "    rawData = response.get('items', [])[0]\n",
    "    return format_channel_data(rawData)\n",
    "    \n",
    "\n",
    "get_channel_data(youtube, channel_id)"
   ]
  },
  {
   "cell_type": "code",
   "execution_count": null,
   "metadata": {},
   "outputs": [],
   "source": [
    "from datetime import datetime\n",
    "def format_video_data(video_data):\n",
    "    \"\"\" Structure raw video data \"\"\"\n",
    "    data = {\n",
    "            \"title\": video_data.get('snippet', {}).get('title'),\n",
    "            \"id\": video_data.get('id'),\n",
    "            \"publishedAt\": video_data.get('snippet', {}).get('publishedAt'),\n",
    "            \"duration\" : video_data.get('contentDetails').get('duration'),\n",
    "            \"ViewCount\" : video_data.get('statistics', {}).get('viewCount'),\n",
    "            \"likeCount\" : video_data.get('statistics', {}).get('likeCount'),\n",
    "            \"commentCount\" : video_data.get('statistics', {}).get('commentCount'),  \n",
    "            \"tags\" : video_data.get('snippet', {}).get('tags')\n",
    "    }\n",
    "    \n",
    "    return data\n",
    "\n",
    "# time = get_video_info(youtube, 'JRBGBjaR9Wg').get(\"publishedAt\")\n",
    "# print(datetime.strptime(time, '%Y-%m-%dT%H:%M:%SZ'))"
   ]
  },
  {
   "cell_type": "code",
   "execution_count": null,
   "metadata": {},
   "outputs": [],
   "source": [
    "def get_video_data(youtube, video_Id):\n",
    "    \"\"\" Request (by id) for most important video stats \"\"\"\n",
    "    request = Request(\n",
    "        requestType=youtube.videos(),\n",
    "        part=\"snippet,contentDetails,statistics,topicDetails\",\n",
    "        id=video_Id,\n",
    "    )\n",
    "    response = request.execute()\n",
    "    \n",
    "    rawData = response.get('items', [])[0]\n",
    "    return format_video_data(rawData)\n",
    "\n",
    "get_video_data(youtube, 'JRBGBjaR9Wg')"
   ]
  },
  {
   "cell_type": "code",
   "execution_count": null,
   "metadata": {},
   "outputs": [],
   "source": [
    "def get_Most_Popular_Video(youtube, region:str):\n",
    "    \"\"\" Request for most populars videos stats \"\"\"\n",
    "    request = Request(\n",
    "        requestType=youtube.videos(),\n",
    "        part=\"snippet,contentDetails,statistics,topicDetails\",\n",
    "        chart=\"mostPopular\",\n",
    "        regionCode=region,\n",
    "        maxResults=100,\n",
    "        pageToken=''\n",
    "    )\n",
    "    response = request.execute()\n",
    "    \n",
    "    pages = [response]\n",
    "    while response.get('nextPageToken'):\n",
    "        request.pageToken = response.get('nextPageToken')\n",
    "        response = request.execute()\n",
    "        pages.append(response)\n",
    "    \n",
    "    top_videos = [format_video_data(videos) for page in pages for videos in page.get('items')]\n",
    "    return top_videos\n",
    "\n",
    "get_Most_Popular_Video(youtube, 'FR')"
   ]
  },
  {
   "cell_type": "code",
   "execution_count": null,
   "metadata": {},
   "outputs": [],
   "source": [
    "def format_comment_data(comment):\n",
    "    \"\"\" Structure raw comment data \"\"\"\n",
    "    data = {\n",
    "        \"id\": comment.get('id'),\n",
    "        \"comment\": comment.get('snippet', {}).get('textOriginal'),\n",
    "        # \"viewerRating\": comment.get('snippet', {}).get('viewerRating'),\n",
    "        \"likeCount\": comment.get('snippet', {}).get('likeCount'),\n",
    "        \"publishedAt\": comment.get('snippet', {}).get('publishedAt'),\n",
    "        \"updatedAt\": comment.get('snippet', {}).get('updatedAt')\n",
    "        }\n",
    "    \n",
    "    return data\n",
    "\n",
    "def format_threadedComment_data(comment):\n",
    "    \"\"\" Structure raw threaded comment data \"\"\"\n",
    "    data = {\n",
    "        \"id\": comment.get('id'),\n",
    "        \"topLevelComment\": format_comment_data(comment.get('snippet', {}).get('topLevelComment')),\n",
    "        \"totalReplyCount\": comment.get('snippet', {}).get('totalReplyCount'),\n",
    "        \"replies\": [format_comment_data(com) for com in comment.get('replies', {}).get('comments', [])]\n",
    "        }\n",
    "    \n",
    "    return data"
   ]
  },
  {
   "cell_type": "code",
   "execution_count": null,
   "metadata": {},
   "outputs": [],
   "source": [
    "def get_comment(youtube,comment_id):\n",
    "    \"\"\" Request (by id) for most important comment stats \"\"\"\n",
    "    request = Request(\n",
    "        requestType=youtube.comments(),\n",
    "        part=\"snippet,id\",\n",
    "        id=comment_id,\n",
    "    )\n",
    "    response = request.execute()\n",
    "    print(response)\n",
    "    rawData = response.get('items')[0]\n",
    "    return format_comment_data(rawData)\n",
    "\n",
    "get_comment(youtube, 'UgwUQR2JJFJSkihWLhx4AaABAg')"
   ]
  },
  {
   "cell_type": "code",
   "execution_count": null,
   "metadata": {},
   "outputs": [],
   "source": [
    "def get_video_commentThreads(youtube,video_Id):\n",
    "    \"\"\" Request (by id) for all comments of a videos \"\"\"\n",
    "    request = Request(\n",
    "        requestType=youtube.commentThreads(),\n",
    "        part=\"snippet,id,replies\",\n",
    "        videoId=video_Id,\n",
    "        maxResults=100,\n",
    "        pageToken = ''\n",
    "    )\n",
    "    response = request.execute()\n",
    "    \n",
    "    pages = [response]\n",
    "    while response.get('nextPageToken'):\n",
    "        request.pageToken = response.get('nextPageToken')\n",
    "        response = request.execute()\n",
    "        pages.append(response)\n",
    "        \n",
    "    top_videos = [format_threadedComment_data(comments) for page in pages for comments in page.get('items')]\n",
    "    return top_videos\n",
    "\n",
    "get_video_commentThreads(youtube, otp_recap)"
   ]
  }
 ],
 "metadata": {
  "kernelspec": {
   "display_name": "Python 3",
   "language": "python",
   "name": "python3"
  },
  "language_info": {
   "codemirror_mode": {
    "name": "ipython",
    "version": 3
   },
   "file_extension": ".py",
   "mimetype": "text/x-python",
   "name": "python",
   "nbconvert_exporter": "python",
   "pygments_lexer": "ipython3",
   "version": "3.10.6"
  }
 },
 "nbformat": 4,
 "nbformat_minor": 2
}
